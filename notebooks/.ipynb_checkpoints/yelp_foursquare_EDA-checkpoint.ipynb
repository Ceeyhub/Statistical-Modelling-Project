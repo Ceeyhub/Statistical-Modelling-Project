{
 "cells": [
  {
   "cell_type": "code",
   "execution_count": 5,
   "metadata": {},
   "outputs": [],
   "source": [
    "# imports\n",
    "import requests\n",
    "import os\n",
    "import pandas as pd\n",
    "apikey = os.environ['FOURSQUARE_API']\n",
    "from pprint import pprint"
   ]
  },
  {
   "cell_type": "markdown",
   "metadata": {},
   "source": [
    "# Foursquare"
   ]
  },
  {
   "cell_type": "markdown",
   "metadata": {},
   "source": [
    "Send a request to Foursquare with a small radius (1000m) for all the bike stations in your city of choice. "
   ]
  },
  {
   "cell_type": "code",
   "execution_count": null,
   "metadata": {},
   "outputs": [],
   "source": [
    "#Mantova', 'country': 'IT', 'latitude': 45.15866370764634, 'longitude': 10.783718973016335\n",
    "# 45.15866370764634,10.783718973016335"
   ]
  },
  {
   "cell_type": "code",
   "execution_count": 7,
   "metadata": {},
   "outputs": [
    {
     "name": "stdout",
     "output_type": "stream",
     "text": [
      "{'context': {'geo_bounds': {'circle': {'center': {'latitude': 45.15866370764634,\n",
      "                                                  'longitude': 10.783718973016335},\n",
      "                                       'radius': 1000}}},\n",
      " 'results': [{'categories': [{'icon': {'prefix': 'https://ss3.4sqi.net/img/categories_v2/nightlife/pub_',\n",
      "                                       'suffix': '.png'},\n",
      "                              'id': 13003,\n",
      "                              'name': 'Bar'},\n",
      "                             {'icon': {'prefix': 'https://ss3.4sqi.net/img/categories_v2/food/cafe_',\n",
      "                                       'suffix': '.png'},\n",
      "                              'id': 13034,\n",
      "                              'name': 'Café'},\n",
      "                             {'icon': {'prefix': 'https://ss3.4sqi.net/img/categories_v2/food/default_',\n",
      "                                       'suffix': '.png'},\n",
      "                              'id': 13065,\n",
      "                              'name': 'Restaurant'}],\n",
      "              'chains': [],\n",
      "              'distance': 25,\n",
      "              'fsq_id': '5270eabf11d283e6fe8550e9',\n",
      "              'geocodes': {'main': {'latitude': 45.158514,\n",
      "                                    'longitude': 10.78456},\n",
      "                           'roof': {'latitude': 45.158514,\n",
      "                                    'longitude': 10.78456}},\n",
      "              'link': '/v3/places/5270eabf11d283e6fe8550e9',\n",
      "              'location': {'address': 'Piazza Don Eugenio Leoni 13',\n",
      "                           'admin_region': 'Lombardia',\n",
      "                           'country': 'IT',\n",
      "                           'cross_street': '',\n",
      "                           'formatted_address': 'Piazza Don Eugenio Leoni 13, '\n",
      "                                                '46100 Mantova Mantova',\n",
      "                           'locality': 'Mantova',\n",
      "                           'postcode': '46100',\n",
      "                           'region': 'Mantova'},\n",
      "              'name': 'Bar Buffet Stazione Mantova',\n",
      "              'related_places': {},\n",
      "              'timezone': 'Europe/Rome'},\n",
      "             {'categories': [{'icon': {'prefix': 'https://ss3.4sqi.net/img/categories_v2/food/default_',\n",
      "                                       'suffix': '.png'},\n",
      "                              'id': 13134,\n",
      "                              'name': 'Comfort Food Restaurant'},\n",
      "                             {'icon': {'prefix': 'https://ss3.4sqi.net/img/categories_v2/food/italian_',\n",
      "                                       'suffix': '.png'},\n",
      "                              'id': 13236,\n",
      "                              'name': 'Italian Restaurant'}],\n",
      "              'chains': [],\n",
      "              'distance': 257,\n",
      "              'fsq_id': '4f245cfbe4b04f6e69201041',\n",
      "              'geocodes': {'drop_off': {'latitude': 45.156605,\n",
      "                                        'longitude': 10.785051},\n",
      "                           'main': {'latitude': 45.156465,\n",
      "                                    'longitude': 10.785125},\n",
      "                           'roof': {'latitude': 45.156465,\n",
      "                                    'longitude': 10.785125}},\n",
      "              'link': '/v3/places/4f245cfbe4b04f6e69201041',\n",
      "              'location': {'address': 'Via Carbonati 4',\n",
      "                           'address_extended': '6',\n",
      "                           'admin_region': 'Lombardia',\n",
      "                           'country': 'IT',\n",
      "                           'cross_street': '',\n",
      "                           'formatted_address': 'Via Carbonati 4, 46100 '\n",
      "                                                'Mantova Lombardia',\n",
      "                           'locality': 'Mantova',\n",
      "                           'postcode': '46100',\n",
      "                           'region': 'Lombardia'},\n",
      "              'name': 'Osteria da Bice La Gallina Felice',\n",
      "              'related_places': {},\n",
      "              'timezone': 'Europe/Rome'},\n",
      "             {'categories': [{'icon': {'prefix': 'https://ss3.4sqi.net/img/categories_v2/food/middleeastern_',\n",
      "                                       'suffix': '.png'},\n",
      "                              'id': 13288,\n",
      "                              'name': 'Kebab Restaurant'}],\n",
      "              'chains': [],\n",
      "              'distance': 94,\n",
      "              'fsq_id': '577e3ae3498e49f976d8a820',\n",
      "              'geocodes': {'drop_off': {'latitude': 45.158014,\n",
      "                                        'longitude': 10.782567},\n",
      "                           'main': {'latitude': 45.157916,\n",
      "                                    'longitude': 10.782667},\n",
      "                           'roof': {'latitude': 45.157916,\n",
      "                                    'longitude': 10.782667}},\n",
      "              'link': '/v3/places/577e3ae3498e49f976d8a820',\n",
      "              'location': {'address': 'Via Saverio Bettinelli 15',\n",
      "                           'admin_region': 'Lombardia',\n",
      "                           'country': 'IT',\n",
      "                           'cross_street': '',\n",
      "                           'formatted_address': 'Via Saverio Bettinelli 15, '\n",
      "                                                '46100 Mantova Lombardia',\n",
      "                           'locality': 'Mantova',\n",
      "                           'postcode': '46100',\n",
      "                           'region': 'Lombardia'},\n",
      "              'name': 'Lahore Kebab',\n",
      "              'related_places': {},\n",
      "              'timezone': 'Europe/Rome'},\n",
      "             {'categories': [{'icon': {'prefix': 'https://ss3.4sqi.net/img/categories_v2/food/italian_',\n",
      "                                       'suffix': '.png'},\n",
      "                              'id': 13236,\n",
      "                              'name': 'Italian Restaurant'}],\n",
      "              'chains': [],\n",
      "              'distance': 126,\n",
      "              'fsq_id': '5ac0e08253159307708859aa',\n",
      "              'geocodes': {'drop_off': {'latitude': 45.159074,\n",
      "                                        'longitude': 10.785152},\n",
      "                           'main': {'latitude': 45.158954,\n",
      "                                    'longitude': 10.785214},\n",
      "                           'roof': {'latitude': 45.158954,\n",
      "                                    'longitude': 10.785214}},\n",
      "              'link': '/v3/places/5ac0e08253159307708859aa',\n",
      "              'location': {'address': 'Via Solferino e San Martino 31',\n",
      "                           'admin_region': 'Lombardia',\n",
      "                           'country': 'IT',\n",
      "                           'cross_street': '',\n",
      "                           'formatted_address': 'Via Solferino e San Martino '\n",
      "                                                '31, 46100 Mantova Lombardia',\n",
      "                           'locality': 'Mantova',\n",
      "                           'postcode': '46100',\n",
      "                           'region': 'Lombardia'},\n",
      "              'name': 'Bigoleria Al Torchio',\n",
      "              'related_places': {},\n",
      "              'timezone': 'Europe/Rome'},\n",
      "             {'categories': [{'icon': {'prefix': 'https://ss3.4sqi.net/img/categories_v2/food/pizza_',\n",
      "                                       'suffix': '.png'},\n",
      "                              'id': 13064,\n",
      "                              'name': 'Pizzeria'},\n",
      "                             {'icon': {'prefix': 'https://ss3.4sqi.net/img/categories_v2/food/italian_',\n",
      "                                       'suffix': '.png'},\n",
      "                              'id': 13258,\n",
      "                              'name': 'Trattoria'}],\n",
      "              'chains': [],\n",
      "              'distance': 373,\n",
      "              'fsq_id': '4db48df14df05e5aaae24c83',\n",
      "              'geocodes': {'drop_off': {'latitude': 45.159029,\n",
      "                                        'longitude': 10.78855},\n",
      "                           'main': {'latitude': 45.159126,\n",
      "                                    'longitude': 10.788632},\n",
      "                           'roof': {'latitude': 45.159126,\n",
      "                                    'longitude': 10.788632}},\n",
      "              'link': '/v3/places/4db48df14df05e5aaae24c83',\n",
      "              'location': {'address': 'Via Marangoni 34',\n",
      "                           'admin_region': 'Lombardia',\n",
      "                           'country': 'IT',\n",
      "                           'cross_street': '',\n",
      "                           'formatted_address': 'Via Marangoni 34, 46100 '\n",
      "                                                'Mantova Lombardia',\n",
      "                           'locality': 'Mantova',\n",
      "                           'postcode': '46100',\n",
      "                           'region': 'Lombardia'},\n",
      "              'name': 'Spirito Divino',\n",
      "              'related_places': {},\n",
      "              'timezone': 'Europe/Rome'},\n",
      "             {'categories': [{'icon': {'prefix': 'https://ss3.4sqi.net/img/categories_v2/food/cafe_',\n",
      "                                       'suffix': '.png'},\n",
      "                              'id': 13034,\n",
      "                              'name': 'Café'}],\n",
      "              'chains': [],\n",
      "              'distance': 144,\n",
      "              'fsq_id': '51000343e4b055a6fd7f829c',\n",
      "              'geocodes': {'drop_off': {'latitude': 45.157454,\n",
      "                                        'longitude': 10.784743},\n",
      "                           'main': {'latitude': 45.157646,\n",
      "                                    'longitude': 10.784735},\n",
      "                           'roof': {'latitude': 45.157646,\n",
      "                                    'longitude': 10.784735}},\n",
      "              'link': '/v3/places/51000343e4b055a6fd7f829c',\n",
      "              'location': {'address': 'Via Vittorio Emanuele',\n",
      "                           'admin_region': 'Lombardia',\n",
      "                           'country': 'IT',\n",
      "                           'cross_street': '',\n",
      "                           'formatted_address': 'Via Vittorio Emanuele, 46100 '\n",
      "                                                'Mantova Lombardia',\n",
      "                           'locality': 'Mantova',\n",
      "                           'postcode': '46100',\n",
      "                           'region': 'Lombardia'},\n",
      "              'name': 'Caffè 29',\n",
      "              'related_places': {},\n",
      "              'timezone': 'Europe/Rome'},\n",
      "             {'categories': [{'icon': {'prefix': 'https://ss3.4sqi.net/img/categories_v2/food/default_',\n",
      "                                       'suffix': '.png'},\n",
      "                              'id': 13065,\n",
      "                              'name': 'Restaurant'},\n",
      "                             {'icon': {'prefix': 'https://ss3.4sqi.net/img/categories_v2/nightlife/pub_',\n",
      "                                       'suffix': '.png'},\n",
      "                              'id': 13003,\n",
      "                              'name': 'Bar'}],\n",
      "              'chains': [],\n",
      "              'distance': 162,\n",
      "              'fsq_id': '5a25fc13d552c759b76d699a',\n",
      "              'geocodes': {'drop_off': {'latitude': 45.157372,\n",
      "                                        'longitude': 10.782817},\n",
      "                           'main': {'latitude': 45.157267,\n",
      "                                    'longitude': 10.782822},\n",
      "                           'roof': {'latitude': 45.157267,\n",
      "                                    'longitude': 10.782822}},\n",
      "              'link': '/v3/places/5a25fc13d552c759b76d699a',\n",
      "              'location': {'address': 'Corso Vittorio Emanuele II 144',\n",
      "                           'admin_region': 'Lombardia',\n",
      "                           'country': 'IT',\n",
      "                           'cross_street': '',\n",
      "                           'formatted_address': 'Corso Vittorio Emanuele II '\n",
      "                                                '144, 46100 Mantova Lombardia',\n",
      "                           'locality': 'Mantova',\n",
      "                           'postcode': '46100',\n",
      "                           'region': 'Lombardia'},\n",
      "              'name': 'Bistro Bar Porta Pradella',\n",
      "              'related_places': {},\n",
      "              'timezone': 'Europe/Rome'},\n",
      "             {'categories': [{'icon': {'prefix': 'https://ss3.4sqi.net/img/categories_v2/food/pizza_',\n",
      "                                       'suffix': '.png'},\n",
      "                              'id': 13064,\n",
      "                              'name': 'Pizzeria'}],\n",
      "              'chains': [],\n",
      "              'distance': 168,\n",
      "              'fsq_id': '5d62e04487398a00086a1006',\n",
      "              'geocodes': {'drop_off': {'latitude': 45.158193,\n",
      "                                        'longitude': 10.785714},\n",
      "                           'main': {'latitude': 45.158101,\n",
      "                                    'longitude': 10.785574},\n",
      "                           'roof': {'latitude': 45.158101,\n",
      "                                    'longitude': 10.785574}},\n",
      "              'link': '/v3/places/5d62e04487398a00086a1006',\n",
      "              'location': {'address': 'Via Bonomi 4',\n",
      "                           'address_extended': 'D',\n",
      "                           'admin_region': 'Lombardia',\n",
      "                           'country': 'IT',\n",
      "                           'cross_street': '',\n",
      "                           'formatted_address': 'Via Bonomi 4, 46100 Mantova '\n",
      "                                                'Lombardia',\n",
      "                           'locality': 'Mantova',\n",
      "                           'postcode': '46100',\n",
      "                           'region': 'Lombardia'},\n",
      "              'name': 'Crosta',\n",
      "              'related_places': {},\n",
      "              'timezone': 'Europe/Rome'},\n",
      "             {'categories': [{'icon': {'prefix': 'https://ss3.4sqi.net/img/categories_v2/food/italian_',\n",
      "                                       'suffix': '.png'},\n",
      "                              'id': 13258,\n",
      "                              'name': 'Trattoria'}],\n",
      "              'chains': [],\n",
      "              'distance': 504,\n",
      "              'fsq_id': '4c488a70417b20a1af4be1a9',\n",
      "              'geocodes': {'main': {'latitude': 45.160319,\n",
      "                                    'longitude': 10.789726},\n",
      "                           'roof': {'latitude': 45.160319,\n",
      "                                    'longitude': 10.789726}},\n",
      "              'link': '/v3/places/4c488a70417b20a1af4be1a9',\n",
      "              'location': {'address': \"Piazza Carlo d'Arco 1\",\n",
      "                           'admin_region': 'Lombardia',\n",
      "                           'country': 'IT',\n",
      "                           'cross_street': '',\n",
      "                           'formatted_address': \"Piazza Carlo d'Arco 1, 46100 \"\n",
      "                                                'Mantova Lombardia',\n",
      "                           'locality': 'Mantova',\n",
      "                           'postcode': '46100',\n",
      "                           'region': 'Lombardia'},\n",
      "              'name': 'Ristorante Il Cigno dei Martini',\n",
      "              'related_places': {},\n",
      "              'timezone': 'Europe/Rome'},\n",
      "             {'categories': [{'icon': {'prefix': 'https://ss3.4sqi.net/img/categories_v2/food/default_',\n",
      "                                       'suffix': '.png'},\n",
      "                              'id': 13065,\n",
      "                              'name': 'Restaurant'}],\n",
      "              'chains': [],\n",
      "              'distance': 536,\n",
      "              'fsq_id': '4e3d791db61cb577be7779a1',\n",
      "              'geocodes': {'main': {'latitude': 45.157239,\n",
      "                                    'longitude': 10.777163}},\n",
      "              'link': '/v3/places/4e3d791db61cb577be7779a1',\n",
      "              'location': {'address': \"Lungolago dell'Arlecchino 6\",\n",
      "                           'admin_region': 'Lombardia',\n",
      "                           'country': 'IT',\n",
      "                           'cross_street': '',\n",
      "                           'formatted_address': \"Lungolago dell'Arlecchino 6, \"\n",
      "                                                '46100 Mantova Lombardia',\n",
      "                           'locality': 'Mantova',\n",
      "                           'postcode': '46100',\n",
      "                           'region': 'Lombardia'},\n",
      "              'name': 'Rifugio',\n",
      "              'related_places': {},\n",
      "              'timezone': 'Europe/Rome'}]}\n"
     ]
    }
   ],
   "source": [
    "\n",
    "#url = \"https://api.foursquare.com/v3/places/search?query=restaurant&ll=45.15866370764634%2C10.783718973016335&radius=1000\"\n",
    "\n",
    "url = \"https://api.foursquare.com/v3/places/search\"\n",
    "headers = {\n",
    "    \"accept\": \"application/json\",\n",
    "    \"Authorization\": \"fsq3twCI7l4mloSQPK8QK00YCDLCHJPNRsle/zUHYF59lLk=\"\n",
    "}\n",
    "for row in df.iterrows():\n",
    "    lat_long = row[\"latitude\"] + \",\" + row[\"longitude\"]\n",
    "    params = {\n",
    "    \"query\": \"restaurant\",\n",
    "    \"radius\": 1000,\n",
    "    \"ll\":lat_long\n",
    "        }\n",
    "    response = requests.get(url, headers=headers, params=params)\n",
    "\n",
    "pprint(response.json())"
   ]
  },
  {
   "cell_type": "code",
   "execution_count": 2,
   "metadata": {},
   "outputs": [],
   "source": [
    "location = \"Mantova,Italy\""
   ]
  },
  {
   "cell_type": "code",
   "execution_count": 3,
   "metadata": {},
   "outputs": [],
   "source": [
    "url = \"https://api.foursquare.com/v3/places/search?near=\" + location"
   ]
  },
  {
   "cell_type": "code",
   "execution_count": 9,
   "metadata": {},
   "outputs": [
    {
     "ename": "NameError",
     "evalue": "name 'api_key' is not defined",
     "output_type": "error",
     "traceback": [
      "\u001b[1;31m---------------------------------------------------------------------------\u001b[0m",
      "\u001b[1;31mNameError\u001b[0m                                 Traceback (most recent call last)",
      "Cell \u001b[1;32mIn[9], line 5\u001b[0m\n\u001b[0;32m      3\u001b[0m \u001b[38;5;66;03m# Add key with our API KEY\u001b[39;00m\n\u001b[0;32m      4\u001b[0m apikey \u001b[38;5;241m=\u001b[39m os\u001b[38;5;241m.\u001b[39menviron[\u001b[38;5;124m'\u001b[39m\u001b[38;5;124mFOURSQUARE_API\u001b[39m\u001b[38;5;124m'\u001b[39m]\n\u001b[1;32m----> 5\u001b[0m headers[\u001b[38;5;124m'\u001b[39m\u001b[38;5;124mAuthorization\u001b[39m\u001b[38;5;124m'\u001b[39m] \u001b[38;5;241m=\u001b[39m api_key\n",
      "\u001b[1;31mNameError\u001b[0m: name 'api_key' is not defined"
     ]
    }
   ],
   "source": [
    "# Create dictionary for headers\n",
    "headers = {\"Accept\": \"application/json\"}\n",
    "# Add key with our API KEY\n",
    "apikey = os.environ['FOURSQUARE_API']\n",
    "headers['Authorization'] = api_key"
   ]
  },
  {
   "cell_type": "code",
   "execution_count": 5,
   "metadata": {},
   "outputs": [],
   "source": [
    "result = requests.get(url, headers=headers)"
   ]
  },
  {
   "cell_type": "code",
   "execution_count": null,
   "metadata": {},
   "outputs": [],
   "source": [
    "print(result.json())"
   ]
  },
  {
   "cell_type": "markdown",
   "metadata": {},
   "source": [
    "Parse through the response to get the POI (such as restaurants, bars, etc) details you want (ratings, name, location, etc)"
   ]
  },
  {
   "cell_type": "code",
   "execution_count": null,
   "metadata": {},
   "outputs": [],
   "source": []
  },
  {
   "cell_type": "markdown",
   "metadata": {},
   "source": [
    "Put your parsed results into a DataFrame"
   ]
  },
  {
   "cell_type": "code",
   "execution_count": null,
   "metadata": {},
   "outputs": [],
   "source": []
  },
  {
   "cell_type": "markdown",
   "metadata": {},
   "source": [
    "# Yelp"
   ]
  },
  {
   "cell_type": "markdown",
   "metadata": {},
   "source": [
    "Send a request to Yelp with a small radius (1000m) for all the bike stations in your city of choice. "
   ]
  },
  {
   "cell_type": "code",
   "execution_count": null,
   "metadata": {},
   "outputs": [],
   "source": []
  },
  {
   "cell_type": "markdown",
   "metadata": {},
   "source": [
    "Parse through the response to get the POI (such as restaurants, bars, etc) details you want (ratings, name, location, etc)"
   ]
  },
  {
   "cell_type": "code",
   "execution_count": null,
   "metadata": {},
   "outputs": [],
   "source": []
  },
  {
   "cell_type": "markdown",
   "metadata": {},
   "source": [
    "Put your parsed results into a DataFrame"
   ]
  },
  {
   "cell_type": "markdown",
   "metadata": {},
   "source": []
  },
  {
   "cell_type": "markdown",
   "metadata": {},
   "source": [
    "# Comparing Results"
   ]
  },
  {
   "cell_type": "markdown",
   "metadata": {},
   "source": [
    "Which API provided you with more complete data? Provide an explanation. "
   ]
  },
  {
   "cell_type": "markdown",
   "metadata": {},
   "source": []
  },
  {
   "cell_type": "markdown",
   "metadata": {},
   "source": [
    "Get the top 10 restaurants according to their rating"
   ]
  },
  {
   "cell_type": "code",
   "execution_count": null,
   "metadata": {},
   "outputs": [],
   "source": []
  }
 ],
 "metadata": {
  "kernelspec": {
   "display_name": "Python 3 (ipykernel)",
   "language": "python",
   "name": "python3"
  },
  "language_info": {
   "codemirror_mode": {
    "name": "ipython",
    "version": 3
   },
   "file_extension": ".py",
   "mimetype": "text/x-python",
   "name": "python",
   "nbconvert_exporter": "python",
   "pygments_lexer": "ipython3",
   "version": "3.11.3"
  }
 },
 "nbformat": 4,
 "nbformat_minor": 4
}
