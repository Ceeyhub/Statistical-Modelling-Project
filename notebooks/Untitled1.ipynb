{
 "cells": [
  {
   "cell_type": "code",
   "execution_count": null,
   "id": "0dfc4454",
   "metadata": {},
   "outputs": [],
   "source": [
    "  url = \"http://api.citybik.es/v2/networks/bicincitta-mantova\""
   ]
  },
  {
   "cell_type": "code",
   "execution_count": null,
   "id": "11b56145",
   "metadata": {},
   "outputs": [],
   "source": [
    "# Create dictionary for headers\n",
    "headers = {\"Accept\": \"application/json\"}\n",
    "# Add key with our API KEY\n",
    "apikey = os.environ['FOURSQUARE_API']\n",
    "headers['Authorization'] = apikey"
   ]
  },
  {
   "cell_type": "code",
   "execution_count": null,
   "id": "f5a8cc2e",
   "metadata": {},
   "outputs": [],
   "source": [
    "result = requests.get(url, headers=headers)"
   ]
  },
  {
   "cell_type": "code",
   "execution_count": null,
   "id": "458ed3c1",
   "metadata": {},
   "outputs": [],
   "source": [
    "print(result.json())"
   ]
  },
  {
   "cell_type": "code",
   "execution_count": null,
   "id": "9d5ed01a",
   "metadata": {},
   "outputs": [],
   "source": []
  },
  {
   "cell_type": "code",
   "execution_count": null,
   "id": "68679a26",
   "metadata": {},
   "outputs": [],
   "source": [
    "# Accessing stations information\n",
    "stations = network_info['stations']\n",
    "for station in stations:\n",
    "    station_name = station['name']\n",
    "    station_latitude = station['latitude']\n",
    "    station_longitude = station['longitude']\n",
    "    station_number = station['extra']['number']\n",
    "    print(f\"Station: {station_name}, Latitude: {station_latitude}, Longitude: {station_longitude}, Number: {station_number}\")"
   ]
  },
  {
   "cell_type": "code",
   "execution_count": null,
   "id": "15f1b81e",
   "metadata": {},
   "outputs": [],
   "source": []
  }
 ],
 "metadata": {
  "kernelspec": {
   "display_name": "Python 3 (ipykernel)",
   "language": "python",
   "name": "python3"
  },
  "language_info": {
   "codemirror_mode": {
    "name": "ipython",
    "version": 3
   },
   "file_extension": ".py",
   "mimetype": "text/x-python",
   "name": "python",
   "nbconvert_exporter": "python",
   "pygments_lexer": "ipython3",
   "version": "3.11.3"
  }
 },
 "nbformat": 4,
 "nbformat_minor": 5
}
